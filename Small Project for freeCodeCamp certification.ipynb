{
 "cells": [
  {
   "cell_type": "markdown",
   "id": "7d4fe8ec",
   "metadata": {},
   "source": [
    "In this challenge you must analyze demographic data using Pandas. You are given a dataset of demographic data that was extracted from the 1994 Census database.\n",
    "\n",
    "\n",
    "You must use Pandas to answer the following questions:\n",
    "\n",
    "1. How many people of each race are represented in this dataset? This should be a Pandas series with race names as the index labels. (race column)\n",
    "2. What is the average age of men?\n",
    "3. What is the percentage of people who have a Bachelor's degree?\n",
    "4. What percentage of people with advanced education (Bachelors, Masters, or Doctorate) make more than 50K?\n",
    "5. What percentage of people without advanced education make more than 50K?\n",
    "6. What is the minimum number of hours a person works per week?\n",
    "7. What percentage of the people who work the minimum number of hours per week have a salary of more than 50K?\n",
    "8. What country has the highest percentage of people that earn >50K and what is that percentage?\n",
    "9. Identify the most popular occupation for those who earn >50K in India."
   ]
  },
  {
   "cell_type": "code",
   "execution_count": 1,
   "id": "95e44ffe",
   "metadata": {},
   "outputs": [
    {
     "data": {
      "text/html": [
       "<div>\n",
       "<style scoped>\n",
       "    .dataframe tbody tr th:only-of-type {\n",
       "        vertical-align: middle;\n",
       "    }\n",
       "\n",
       "    .dataframe tbody tr th {\n",
       "        vertical-align: top;\n",
       "    }\n",
       "\n",
       "    .dataframe thead th {\n",
       "        text-align: right;\n",
       "    }\n",
       "</style>\n",
       "<table border=\"1\" class=\"dataframe\">\n",
       "  <thead>\n",
       "    <tr style=\"text-align: right;\">\n",
       "      <th></th>\n",
       "      <th>age</th>\n",
       "      <th>workclass</th>\n",
       "      <th>fnlwgt</th>\n",
       "      <th>education</th>\n",
       "      <th>education-num</th>\n",
       "      <th>marital-status</th>\n",
       "      <th>occupation</th>\n",
       "      <th>relationship</th>\n",
       "      <th>race</th>\n",
       "      <th>sex</th>\n",
       "      <th>capital-gain</th>\n",
       "      <th>capital-loss</th>\n",
       "      <th>hours-per-week</th>\n",
       "      <th>native-country</th>\n",
       "      <th>salary</th>\n",
       "    </tr>\n",
       "  </thead>\n",
       "  <tbody>\n",
       "    <tr>\n",
       "      <th>0</th>\n",
       "      <td>39</td>\n",
       "      <td>State-gov</td>\n",
       "      <td>77516</td>\n",
       "      <td>Bachelors</td>\n",
       "      <td>13</td>\n",
       "      <td>Never-married</td>\n",
       "      <td>Adm-clerical</td>\n",
       "      <td>Not-in-family</td>\n",
       "      <td>White</td>\n",
       "      <td>Male</td>\n",
       "      <td>2174</td>\n",
       "      <td>0</td>\n",
       "      <td>40</td>\n",
       "      <td>United-States</td>\n",
       "      <td>&lt;=50K</td>\n",
       "    </tr>\n",
       "    <tr>\n",
       "      <th>1</th>\n",
       "      <td>50</td>\n",
       "      <td>Self-emp-not-inc</td>\n",
       "      <td>83311</td>\n",
       "      <td>Bachelors</td>\n",
       "      <td>13</td>\n",
       "      <td>Married-civ-spouse</td>\n",
       "      <td>Exec-managerial</td>\n",
       "      <td>Husband</td>\n",
       "      <td>White</td>\n",
       "      <td>Male</td>\n",
       "      <td>0</td>\n",
       "      <td>0</td>\n",
       "      <td>13</td>\n",
       "      <td>United-States</td>\n",
       "      <td>&lt;=50K</td>\n",
       "    </tr>\n",
       "    <tr>\n",
       "      <th>2</th>\n",
       "      <td>38</td>\n",
       "      <td>Private</td>\n",
       "      <td>215646</td>\n",
       "      <td>HS-grad</td>\n",
       "      <td>9</td>\n",
       "      <td>Divorced</td>\n",
       "      <td>Handlers-cleaners</td>\n",
       "      <td>Not-in-family</td>\n",
       "      <td>White</td>\n",
       "      <td>Male</td>\n",
       "      <td>0</td>\n",
       "      <td>0</td>\n",
       "      <td>40</td>\n",
       "      <td>United-States</td>\n",
       "      <td>&lt;=50K</td>\n",
       "    </tr>\n",
       "    <tr>\n",
       "      <th>3</th>\n",
       "      <td>53</td>\n",
       "      <td>Private</td>\n",
       "      <td>234721</td>\n",
       "      <td>11th</td>\n",
       "      <td>7</td>\n",
       "      <td>Married-civ-spouse</td>\n",
       "      <td>Handlers-cleaners</td>\n",
       "      <td>Husband</td>\n",
       "      <td>Black</td>\n",
       "      <td>Male</td>\n",
       "      <td>0</td>\n",
       "      <td>0</td>\n",
       "      <td>40</td>\n",
       "      <td>United-States</td>\n",
       "      <td>&lt;=50K</td>\n",
       "    </tr>\n",
       "    <tr>\n",
       "      <th>4</th>\n",
       "      <td>28</td>\n",
       "      <td>Private</td>\n",
       "      <td>338409</td>\n",
       "      <td>Bachelors</td>\n",
       "      <td>13</td>\n",
       "      <td>Married-civ-spouse</td>\n",
       "      <td>Prof-specialty</td>\n",
       "      <td>Wife</td>\n",
       "      <td>Black</td>\n",
       "      <td>Female</td>\n",
       "      <td>0</td>\n",
       "      <td>0</td>\n",
       "      <td>40</td>\n",
       "      <td>Cuba</td>\n",
       "      <td>&lt;=50K</td>\n",
       "    </tr>\n",
       "  </tbody>\n",
       "</table>\n",
       "</div>"
      ],
      "text/plain": [
       "   age         workclass  fnlwgt  education  education-num  \\\n",
       "0   39         State-gov   77516  Bachelors             13   \n",
       "1   50  Self-emp-not-inc   83311  Bachelors             13   \n",
       "2   38           Private  215646    HS-grad              9   \n",
       "3   53           Private  234721       11th              7   \n",
       "4   28           Private  338409  Bachelors             13   \n",
       "\n",
       "       marital-status         occupation   relationship   race     sex  \\\n",
       "0       Never-married       Adm-clerical  Not-in-family  White    Male   \n",
       "1  Married-civ-spouse    Exec-managerial        Husband  White    Male   \n",
       "2            Divorced  Handlers-cleaners  Not-in-family  White    Male   \n",
       "3  Married-civ-spouse  Handlers-cleaners        Husband  Black    Male   \n",
       "4  Married-civ-spouse     Prof-specialty           Wife  Black  Female   \n",
       "\n",
       "   capital-gain  capital-loss  hours-per-week native-country salary  \n",
       "0          2174             0              40  United-States  <=50K  \n",
       "1             0             0              13  United-States  <=50K  \n",
       "2             0             0              40  United-States  <=50K  \n",
       "3             0             0              40  United-States  <=50K  \n",
       "4             0             0              40           Cuba  <=50K  "
      ]
     },
     "execution_count": 1,
     "metadata": {},
     "output_type": "execute_result"
    }
   ],
   "source": [
    "import numpy as np\n",
    "import pandas as pd\n",
    "\n",
    "df=pd.read_csv('adult.data.csv')\n",
    "df.head()"
   ]
  },
  {
   "cell_type": "code",
   "execution_count": 3,
   "id": "8aac4bfa",
   "metadata": {},
   "outputs": [
    {
     "data": {
      "text/plain": [
       "White                 27816\n",
       "Black                  3124\n",
       "Asian-Pac-Islander     1039\n",
       "Amer-Indian-Eskimo      311\n",
       "Other                   271\n",
       "Name: race, dtype: int64"
      ]
     },
     "execution_count": 3,
     "metadata": {},
     "output_type": "execute_result"
    }
   ],
   "source": [
    "# 1-Question.\n",
    "# How many people of each race are represented in this dataset? \n",
    "# This should be a Pandas series with race names as the index labels. (race column)\n",
    "\n",
    "race_counts=df['race'].value_counts()\n",
    "race_counts"
   ]
  },
  {
   "cell_type": "code",
   "execution_count": 6,
   "id": "83ad8e14",
   "metadata": {},
   "outputs": [
    {
     "data": {
      "text/plain": [
       "39.43354749885268"
      ]
     },
     "execution_count": 6,
     "metadata": {},
     "output_type": "execute_result"
    }
   ],
   "source": [
    "# 2-Question.\n",
    "# What is the average age of men?\n",
    "avg_age_men=df[df['sex']=='Male']['age'].mean()\n",
    "avg_age_men"
   ]
  },
  {
   "cell_type": "code",
   "execution_count": 11,
   "id": "64064c54",
   "metadata": {},
   "outputs": [
    {
     "data": {
      "text/plain": [
       "16.44605509658794"
      ]
     },
     "execution_count": 11,
     "metadata": {},
     "output_type": "execute_result"
    }
   ],
   "source": [
    "# 3. What is the percentage of people who have a Bachelor's degree?\n",
    "bachelor_percentage = (df[df['education']=='Bachelors'].shape[0]/df.shape[0])*100\n",
    "bachelor_percentage"
   ]
  },
  {
   "cell_type": "code",
   "execution_count": 15,
   "id": "6e3d4ac2",
   "metadata": {},
   "outputs": [
    {
     "data": {
      "text/plain": [
       "46.535843011613935"
      ]
     },
     "execution_count": 15,
     "metadata": {},
     "output_type": "execute_result"
    }
   ],
   "source": [
    "# 4. What percentage of people with advanced education (Bachelors, Masters, or Doctorate) make more than 50K?\n",
    "advanced_education = df[df['education'].isin([\"Bachelors\", \"Masters\", \"Doctorate\"])]\n",
    "percentage_advanced_education_high_income = (advanced_education[advanced_education['salary'] == '>50K'].shape[0] / advanced_education.shape[0]) * 100\n",
    "percentage_advanced_education_high_income"
   ]
  },
  {
   "cell_type": "code",
   "execution_count": 17,
   "id": "1ae949bb",
   "metadata": {},
   "outputs": [
    {
     "data": {
      "text/plain": [
       "17.3713601914639"
      ]
     },
     "execution_count": 17,
     "metadata": {},
     "output_type": "execute_result"
    }
   ],
   "source": [
    "# 5. What percentage of people without advanced education make more than 50K?\n",
    "no_advanced_education=df[~ df['education'].isin([\"Bachelors\", \"Masters\", \"Doctorate\"])]\n",
    "percentage_no_advanced_education_high_income = (no_advanced_education[no_advanced_education['salary'] == '>50K'].shape[0] / no_advanced_education.shape[0]) * 100\n",
    "percentage_no_advanced_education_high_income"
   ]
  },
  {
   "cell_type": "code",
   "execution_count": 19,
   "id": "8f703381",
   "metadata": {},
   "outputs": [
    {
     "data": {
      "text/plain": [
       "1"
      ]
     },
     "execution_count": 19,
     "metadata": {},
     "output_type": "execute_result"
    }
   ],
   "source": [
    "# 6. What is the minimum number of hours a person works per week?\n",
    "min_hours = df['hours-per-week'].min()\n",
    "min_hours\n"
   ]
  },
  {
   "cell_type": "code",
   "execution_count": 20,
   "id": "bd626b6e",
   "metadata": {},
   "outputs": [
    {
     "data": {
      "text/plain": [
       "10.0"
      ]
     },
     "execution_count": 20,
     "metadata": {},
     "output_type": "execute_result"
    }
   ],
   "source": [
    "# 7. What percentage of the people who work the minimum number of hours per week have a salary of more than 50K?\n",
    "\n",
    "min_hours_people = df[df['hours-per-week'] == min_hours]\n",
    "percentage_min_hours_high_income = (min_hours_people[min_hours_people['salary'] == '>50K'].shape[0] / min_hours_people.shape[0]) * 100\n",
    "percentage_min_hours_high_income"
   ]
  },
  {
   "cell_type": "code",
   "execution_count": 30,
   "id": "2ee10266",
   "metadata": {},
   "outputs": [
    {
     "data": {
      "text/plain": [
       "'Iran'"
      ]
     },
     "execution_count": 30,
     "metadata": {},
     "output_type": "execute_result"
    }
   ],
   "source": [
    "# 8. What country has the highest percentage of people that earn >50K and what is that percentage?\n",
    "country_salary_percentage = df.groupby('native-country')['salary'].value_counts(normalize=True).unstack().fillna(0)\n",
    "highest_earning_country = (country_salary_percentage['>50K'] * 100).idxmax()\n",
    "highest_percentage = (country_salary_percentage['>50K'] * 100).max()\n",
    "highest_earning_country"
   ]
  },
  {
   "cell_type": "code",
   "execution_count": 27,
   "id": "39634e81",
   "metadata": {},
   "outputs": [
    {
     "data": {
      "text/plain": [
       "'Prof-specialty'"
      ]
     },
     "execution_count": 27,
     "metadata": {},
     "output_type": "execute_result"
    }
   ],
   "source": [
    "# 9. Identify the most popular occupation for those who earn >50K in India.\n",
    "india_high_income = df[(df['native-country'] == 'India') & (df['salary'] == '>50K')]\n",
    "most_popular_occupation_india = india_high_income['occupation'].mode()[0]\n",
    "most_popular_occupation_india"
   ]
  },
  {
   "cell_type": "code",
   "execution_count": 29,
   "id": "b07093ce",
   "metadata": {},
   "outputs": [
    {
     "name": "stdout",
     "output_type": "stream",
     "text": [
      "1. Race Counts:\n",
      " White                 27816\n",
      "Black                  3124\n",
      "Asian-Pac-Islander     1039\n",
      "Amer-Indian-Eskimo      311\n",
      "Other                   271\n",
      "Name: race, dtype: int64\n",
      "\n",
      "2. Average age of men: 39.43354749885268\n",
      "\n",
      "3. Percentage of people with a Bachelor's degree: 16.44605509658794\n",
      "\n",
      "4. Percentage of people with advanced education making >50K: 46.535843011613935\n",
      "\n",
      "5. Percentage of people without advanced education making >50K: 17.3713601914639\n",
      "\n",
      "6. Minimum hours per week: 1\n",
      "\n",
      "7. Percentage of people working minimum hours with >50K salary: 10.0\n",
      "\n",
      "8. Country with highest percentage of people earning >50K: Iran with 41.86046511627907 %\n",
      "\n",
      "9. Most popular occupation for those earning >50K in India: Prof-specialty\n"
     ]
    }
   ],
   "source": [
    "# Display the results\n",
    "print(\"1. Race Counts:\\n\", race_counts)\n",
    "print(\"\\n2. Average age of men:\", avg_age_men)\n",
    "print(\"\\n3. Percentage of people with a Bachelor's degree:\", bachelor_percentage)\n",
    "print(\"\\n4. Percentage of people with advanced education making >50K:\", percentage_advanced_education_high_income)\n",
    "print(\"\\n5. Percentage of people without advanced education making >50K:\", percentage_no_advanced_education_high_income)\n",
    "print(\"\\n6. Minimum hours per week:\", min_hours)\n",
    "print(\"\\n7. Percentage of people working minimum hours with >50K salary:\", percentage_min_hours_high_income)\n",
    "print(\"\\n8. Country with highest percentage of people earning >50K:\", highest_earning_country, \"with\", highest_percentage, \"%\")\n",
    "print(\"\\n9. Most popular occupation for those earning >50K in India:\", most_popular_occupation_india)"
   ]
  }
 ],
 "metadata": {
  "kernelspec": {
   "display_name": "Python 3 (ipykernel)",
   "language": "python",
   "name": "python3"
  },
  "language_info": {
   "codemirror_mode": {
    "name": "ipython",
    "version": 3
   },
   "file_extension": ".py",
   "mimetype": "text/x-python",
   "name": "python",
   "nbconvert_exporter": "python",
   "pygments_lexer": "ipython3",
   "version": "3.11.4"
  }
 },
 "nbformat": 4,
 "nbformat_minor": 5
}
